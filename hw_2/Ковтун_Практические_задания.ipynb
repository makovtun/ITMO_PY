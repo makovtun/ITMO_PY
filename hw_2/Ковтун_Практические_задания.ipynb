{
  "nbformat": 4,
  "nbformat_minor": 0,
  "metadata": {
    "colab": {
      "provenance": []
    },
    "kernelspec": {
      "name": "python3",
      "display_name": "Python 3"
    },
    "language_info": {
      "name": "python"
    }
  },
  "cells": [
    {
      "cell_type": "markdown",
      "source": [
        "# **Основы Python. Практическое задание 1**"
      ],
      "metadata": {
        "id": "ji4bk_6-hmWu"
      }
    },
    {
      "cell_type": "code",
      "execution_count": null,
      "metadata": {
        "id": "2GXPggCJhfI3"
      },
      "outputs": [],
      "source": [
        "class Chocolate:\n",
        "  def __init__(self, cost, add=None):\n",
        "    self.cost = cost\n",
        "    self.add = add\n",
        "    if self.cost <= 0:\n",
        "      raise ValueError ('Цена должна быть больше ноля')\n",
        "\n",
        "  def show_my_chocolate(self):\n",
        "    if self.add == None:\n",
        "      return 'Обычный шоколадный батончик'\n",
        "    else:\n",
        "      return f'Шоколадный батончик, добавка: {self.add}'\n",
        "\n",
        "  def __str__(self):\n",
        "    return f'Шоколадный батончик, {self.cost} руб.'"
      ]
    },
    {
      "cell_type": "markdown",
      "source": [
        "Тестируем на примерах:"
      ],
      "metadata": {
        "id": "5v4i6cnSh61c"
      }
    },
    {
      "cell_type": "code",
      "source": [
        "choco_1 = Chocolate(50.5, 'клубника')\n",
        "print(choco_1)"
      ],
      "metadata": {
        "colab": {
          "base_uri": "https://localhost:8080/"
        },
        "id": "UqPsFF7gh3OG",
        "outputId": "9078ad14-aeb0-458b-c407-2cc78dae62b4"
      },
      "execution_count": null,
      "outputs": [
        {
          "output_type": "stream",
          "name": "stdout",
          "text": [
            "Шоколадный батончик, 50.5 руб.\n"
          ]
        }
      ]
    },
    {
      "cell_type": "code",
      "source": [
        "choco_2 = Chocolate(0, 'банан')\n",
        "print(choco_2)"
      ],
      "metadata": {
        "colab": {
          "base_uri": "https://localhost:8080/",
          "height": 280
        },
        "id": "eRrNDMvHh98o",
        "outputId": "cae00704-7e55-40d1-fc0b-c22be64a4a2f"
      },
      "execution_count": null,
      "outputs": [
        {
          "output_type": "error",
          "ename": "ValueError",
          "evalue": "Цена должна быть больше ноля",
          "traceback": [
            "\u001b[0;31m---------------------------------------------------------------------------\u001b[0m",
            "\u001b[0;31mValueError\u001b[0m                                Traceback (most recent call last)",
            "\u001b[0;32m<ipython-input-9-cad5c85d8caa>\u001b[0m in \u001b[0;36m<cell line: 0>\u001b[0;34m()\u001b[0m\n\u001b[0;32m----> 1\u001b[0;31m \u001b[0mchoco_2\u001b[0m \u001b[0;34m=\u001b[0m \u001b[0mChocolate\u001b[0m\u001b[0;34m(\u001b[0m\u001b[0;36m0\u001b[0m\u001b[0;34m,\u001b[0m \u001b[0;34m'банан'\u001b[0m\u001b[0;34m)\u001b[0m\u001b[0;34m\u001b[0m\u001b[0;34m\u001b[0m\u001b[0m\n\u001b[0m\u001b[1;32m      2\u001b[0m \u001b[0mprint\u001b[0m\u001b[0;34m(\u001b[0m\u001b[0mchoco_2\u001b[0m\u001b[0;34m)\u001b[0m\u001b[0;34m\u001b[0m\u001b[0;34m\u001b[0m\u001b[0m\n",
            "\u001b[0;32m<ipython-input-6-5e09d70de6cf>\u001b[0m in \u001b[0;36m__init__\u001b[0;34m(self, cost, add)\u001b[0m\n\u001b[1;32m      4\u001b[0m     \u001b[0mself\u001b[0m\u001b[0;34m.\u001b[0m\u001b[0madd\u001b[0m \u001b[0;34m=\u001b[0m \u001b[0madd\u001b[0m\u001b[0;34m\u001b[0m\u001b[0;34m\u001b[0m\u001b[0m\n\u001b[1;32m      5\u001b[0m     \u001b[0;32mif\u001b[0m \u001b[0mself\u001b[0m\u001b[0;34m.\u001b[0m\u001b[0mcost\u001b[0m \u001b[0;34m<=\u001b[0m \u001b[0;36m0\u001b[0m\u001b[0;34m:\u001b[0m\u001b[0;34m\u001b[0m\u001b[0;34m\u001b[0m\u001b[0m\n\u001b[0;32m----> 6\u001b[0;31m       \u001b[0;32mraise\u001b[0m \u001b[0mValueError\u001b[0m \u001b[0;34m(\u001b[0m\u001b[0;34m'Цена должна быть больше ноля'\u001b[0m\u001b[0;34m)\u001b[0m\u001b[0;34m\u001b[0m\u001b[0;34m\u001b[0m\u001b[0m\n\u001b[0m\u001b[1;32m      7\u001b[0m \u001b[0;34m\u001b[0m\u001b[0m\n\u001b[1;32m      8\u001b[0m   \u001b[0;32mdef\u001b[0m \u001b[0mshow_my_chocolate\u001b[0m\u001b[0;34m(\u001b[0m\u001b[0mself\u001b[0m\u001b[0;34m)\u001b[0m\u001b[0;34m:\u001b[0m\u001b[0;34m\u001b[0m\u001b[0;34m\u001b[0m\u001b[0m\n",
            "\u001b[0;31mValueError\u001b[0m: Цена должна быть больше ноля"
          ]
        }
      ]
    },
    {
      "cell_type": "code",
      "source": [
        "choco_3 = Chocolate(10, 'банан')\n",
        "print(Chocolate.show_my_chocolate(choco_3))"
      ],
      "metadata": {
        "colab": {
          "base_uri": "https://localhost:8080/"
        },
        "id": "v32WAHq6iBYR",
        "outputId": "220b7a30-42ce-4dc7-e5d1-1ef99543d2b3"
      },
      "execution_count": null,
      "outputs": [
        {
          "output_type": "stream",
          "name": "stdout",
          "text": [
            "Шоколадный батончик, добавка: банан\n"
          ]
        }
      ]
    },
    {
      "cell_type": "code",
      "source": [
        "choco_4 = Chocolate(40)\n",
        "print(Chocolate.show_my_chocolate(choco_4))"
      ],
      "metadata": {
        "colab": {
          "base_uri": "https://localhost:8080/"
        },
        "id": "f13pRivJiFhT",
        "outputId": "a9915d68-4d34-4bb9-fd65-3935aabc3b64"
      },
      "execution_count": null,
      "outputs": [
        {
          "output_type": "stream",
          "name": "stdout",
          "text": [
            "Обычный шоколадный батончик\n"
          ]
        }
      ]
    }
  ]
}